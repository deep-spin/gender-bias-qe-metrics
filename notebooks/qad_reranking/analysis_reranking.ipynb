{
 "cells": [
  {
   "cell_type": "code",
   "execution_count": 14,
   "metadata": {},
   "outputs": [],
   "source": [
    "import os\n",
    "from IPython.display import display\n",
    "import pandas as pd\n",
    "import json\n",
    "from datasets import load_dataset\n",
    "import numpy as np\n",
    "from comet import download_model, load_from_checkpoint\n",
    "# from comet.metrics import COMET\n"
   ]
  },
  {
   "cell_type": "code",
   "execution_count": 15,
   "metadata": {},
   "outputs": [
    {
     "name": "stderr",
     "output_type": "stream",
     "text": [
      "Fetching 5 files: 100%|██████████████████████████████████████████████████████████████████████████████████████████████| 5/5 [00:00<00:00, 10727.12it/s]\n",
      "Lightning automatically upgraded your loaded checkpoint from v1.8.3.post1 to v2.5.2. To apply the upgrade to your files permanently, run `python -m pytorch_lightning.utilities.upgrade_checkpoint ../../../../../home/manos/.cache/huggingface/hub/models--Unbabel--wmt22-comet-da/snapshots/2760a223ac957f30acfb18c8aa649b01cf1d75f2/checkpoints/model.ckpt`\n",
      "Encoder model frozen.\n",
      "/mnt/data-poseidon/manos/gender_bias_qe/venvs/venv-gender-bias-qe-final/lib/python3.10/site-packages/pytorch_lightning/core/saving.py:195: Found keys that are not in the model state dict but in the checkpoint: ['encoder.model.embeddings.position_ids']\n"
     ]
    }
   ],
   "source": [
    "comet_metric = load_from_checkpoint(download_model(\"Unbabel/wmt22-comet-da\"))\n"
   ]
  },
  {
   "cell_type": "code",
   "execution_count": 16,
   "metadata": {},
   "outputs": [],
   "source": [
    "# https://github.com/amazon-science/machine-translation-gender-eval/blob/main/accuracy_metric.py\n",
    "def get_words(line):\n",
    "    \"\"\"\n",
    "    Helper function to get the set of words in a line.\n",
    "\n",
    "    :param line: Line from which to get the words.\n",
    "    :return: Set of words in the line.\n",
    "    \"\"\"\n",
    "    return set(line.strip().split())\n",
    "\n",
    "\n",
    "def get_trg_correct_incorrect(trg_line, orig_ref, ctf_ref):\n",
    "    \"\"\"\n",
    "    Compute overlap between references and translation\n",
    "    We first get unique words in each of the references w.r.t each other then we compute their overlap with target\n",
    "    \"\"\"\n",
    "    # get words for each segment\n",
    "    trg_words, orig_words, ctf_words = (\n",
    "        get_words(trg_line),\n",
    "        get_words(orig_ref),\n",
    "        get_words(ctf_ref),\n",
    "    )\n",
    "    # get unique words in each of the references\n",
    "    orig_unique = orig_words - ctf_words\n",
    "    ctf_unique = ctf_words - orig_words\n",
    "    # now check the words in the target sentence for overlap with incorrect unique words\n",
    "    trg_correct = trg_words & orig_unique\n",
    "    trg_incorrect = trg_words & ctf_unique\n",
    "    return trg_correct, trg_incorrect\n",
    "\n",
    "\n",
    "def gender_decision(trg_line, orig_ref, ctf_ref):\n",
    "    \"\"\"\n",
    "    Check if gender of a sentence is correct based on corresponding correct and incorrect references.\n",
    "    Algorithm: We make decision based on whether hyp overlaps with original ref and counterfactual ref\n",
    "\n",
    "    :param trg_line: Sentence from translation output for which to check gender.\n",
    "    :param orig_ref: Original (Correct) reference.\n",
    "    :param ctf_ref: Counterfactual reference.\n",
    "    :return: a list of decision, overlap(hyp, original ref), overlap(hyp, counterfactual ref)\n",
    "    \"\"\"\n",
    "    trg_correct, trg_incorrect = get_trg_correct_incorrect(trg_line, orig_ref, ctf_ref)\n",
    "\n",
    "    if trg_incorrect:\n",
    "        decision = \"Incorrect\"\n",
    "    else:\n",
    "        if trg_correct:\n",
    "            decision = \"Correct\"\n",
    "        else:\n",
    "            decision = \"None\"\n",
    "\n",
    "    return decision\n"
   ]
  },
  {
   "cell_type": "code",
   "execution_count": 17,
   "metadata": {},
   "outputs": [],
   "source": [
    "def read_gender_data(language):\n",
    "    gender_info = pd.read_csv(f\"./data/mtgeneval/context_genders/geneval-context-en{language}-genders.txt\", sep=\"\\t\")\n",
    "    return gender_info    \n",
    "\n",
    "    \n",
    "\n",
    "def read_translations(language:str, metric_name=None):\n",
    "    if metric_name is None:\n",
    "        outputs_path = f\"./results-copied/translations-qad-ambiguous/{language}/Unbabel--TowerInstruct-7B-v0.2/greedy/generations.json\"\n",
    "    else:\n",
    "        outputs_path = f\"./results-copied/translations-qad-ambiguous/{language}/Unbabel--TowerInstruct-7B-v0.2/reranking/{metric_name}/generations.json\"\n",
    "    with open(outputs_path, \"r\",encoding='utf-8') as f:\n",
    "        data = json.load(f)\n",
    "    sources = [sample['input'] for sample in data]\n",
    "    outs = [sample['outputs'][0] for sample in data]\n",
    "\n",
    "    return sources,outs\n",
    "\n",
    "    "
   ]
  },
  {
   "cell_type": "code",
   "execution_count": 32,
   "metadata": {},
   "outputs": [
    {
     "name": "stdout",
     "output_type": "stream",
     "text": [
      "it\n"
     ]
    },
    {
     "name": "stderr",
     "output_type": "stream",
     "text": [
      "/mnt/data-poseidon/manos/gender_bias_qe/venvs/venv-gender-bias-qe-final/lib/python3.10/site-packages/lightning_fabric/plugins/environments/slurm.py:204: The `srun` command is available on your system but is not used. HINT: If your intention is to run Lightning on SLURM, prepend your python command with `srun` like so: srun python3 /mnt/data-poseidon/manos/gender_bias_qe/venvs/venv- ...\n",
      "💡 Tip: For seamless cloud uploads and versioning, try installing [litmodels](https://pypi.org/project/litmodels/) to enable LitModelCheckpoint, which syncs automatically with the Lightning model registry.\n",
      "GPU available: True (cuda), used: True\n",
      "TPU available: False, using: 0 TPU cores\n",
      "HPU available: False, using: 0 HPUs\n",
      "LOCAL_RANK: 0 - CUDA_VISIBLE_DEVICES: [0]\n"
     ]
    },
    {
     "name": "stdout",
     "output_type": "stream",
     "text": [
      "None\n"
     ]
    },
    {
     "name": "stderr",
     "output_type": "stream",
     "text": [
      "Predicting DataLoader 0: 100%|██████████████████████████████████████████████████████████████████████████████████████████| 5/5 [00:05<00:00,  1.08s/it]\n",
      "/mnt/data-poseidon/manos/gender_bias_qe/venvs/venv-gender-bias-qe-final/lib/python3.10/site-packages/lightning_fabric/plugins/environments/slurm.py:204: The `srun` command is available on your system but is not used. HINT: If your intention is to run Lightning on SLURM, prepend your python command with `srun` like so: srun python3 /mnt/data-poseidon/manos/gender_bias_qe/venvs/venv- ...\n",
      "💡 Tip: For seamless cloud uploads and versioning, try installing [litmodels](https://pypi.org/project/litmodels/) to enable LitModelCheckpoint, which syncs automatically with the Lightning model registry.\n",
      "GPU available: True (cuda), used: True\n",
      "TPU available: False, using: 0 TPU cores\n",
      "HPU available: False, using: 0 HPUs\n",
      "LOCAL_RANK: 0 - CUDA_VISIBLE_DEVICES: [0]\n",
      "Predicting DataLoader 0: 100%|██████████████████████████████████████████████████████████████████████████████████████████| 5/5 [00:05<00:00,  1.08s/it]\n",
      "/mnt/data-poseidon/manos/gender_bias_qe/venvs/venv-gender-bias-qe-final/lib/python3.10/site-packages/lightning_fabric/plugins/environments/slurm.py:204: The `srun` command is available on your system but is not used. HINT: If your intention is to run Lightning on SLURM, prepend your python command with `srun` like so: srun python3 /mnt/data-poseidon/manos/gender_bias_qe/venvs/venv- ...\n",
      "💡 Tip: For seamless cloud uploads and versioning, try installing [litmodels](https://pypi.org/project/litmodels/) to enable LitModelCheckpoint, which syncs automatically with the Lightning model registry.\n",
      "GPU available: True (cuda), used: True\n",
      "TPU available: False, using: 0 TPU cores\n",
      "HPU available: False, using: 0 HPUs\n",
      "LOCAL_RANK: 0 - CUDA_VISIBLE_DEVICES: [0]\n"
     ]
    },
    {
     "name": "stdout",
     "output_type": "stream",
     "text": [
      "Unbabel--wmt22-cometkiwi-da\n"
     ]
    },
    {
     "name": "stderr",
     "output_type": "stream",
     "text": [
      "Predicting DataLoader 0: 100%|██████████████████████████████████████████████████████████████████████████████████████████| 5/5 [00:05<00:00,  1.11s/it]\n",
      "/mnt/data-poseidon/manos/gender_bias_qe/venvs/venv-gender-bias-qe-final/lib/python3.10/site-packages/lightning_fabric/plugins/environments/slurm.py:204: The `srun` command is available on your system but is not used. HINT: If your intention is to run Lightning on SLURM, prepend your python command with `srun` like so: srun python3 /mnt/data-poseidon/manos/gender_bias_qe/venvs/venv- ...\n",
      "💡 Tip: For seamless cloud uploads and versioning, try installing [litmodels](https://pypi.org/project/litmodels/) to enable LitModelCheckpoint, which syncs automatically with the Lightning model registry.\n",
      "GPU available: True (cuda), used: True\n",
      "TPU available: False, using: 0 TPU cores\n",
      "HPU available: False, using: 0 HPUs\n",
      "LOCAL_RANK: 0 - CUDA_VISIBLE_DEVICES: [0]\n",
      "Predicting DataLoader 0: 100%|██████████████████████████████████████████████████████████████████████████████████████████| 5/5 [00:05<00:00,  1.11s/it]\n",
      "/mnt/data-poseidon/manos/gender_bias_qe/venvs/venv-gender-bias-qe-final/lib/python3.10/site-packages/lightning_fabric/plugins/environments/slurm.py:204: The `srun` command is available on your system but is not used. HINT: If your intention is to run Lightning on SLURM, prepend your python command with `srun` like so: srun python3 /mnt/data-poseidon/manos/gender_bias_qe/venvs/venv- ...\n",
      "💡 Tip: For seamless cloud uploads and versioning, try installing [litmodels](https://pypi.org/project/litmodels/) to enable LitModelCheckpoint, which syncs automatically with the Lightning model registry.\n",
      "GPU available: True (cuda), used: True\n",
      "TPU available: False, using: 0 TPU cores\n",
      "HPU available: False, using: 0 HPUs\n",
      "LOCAL_RANK: 0 - CUDA_VISIBLE_DEVICES: [0]\n"
     ]
    },
    {
     "name": "stdout",
     "output_type": "stream",
     "text": [
      "Unbabel--wmt23-cometkiwi-da-xxl\n"
     ]
    },
    {
     "name": "stderr",
     "output_type": "stream",
     "text": [
      "Predicting DataLoader 0: 100%|██████████████████████████████████████████████████████████████████████████████████████████| 5/5 [00:05<00:00,  1.11s/it]\n",
      "/mnt/data-poseidon/manos/gender_bias_qe/venvs/venv-gender-bias-qe-final/lib/python3.10/site-packages/lightning_fabric/plugins/environments/slurm.py:204: The `srun` command is available on your system but is not used. HINT: If your intention is to run Lightning on SLURM, prepend your python command with `srun` like so: srun python3 /mnt/data-poseidon/manos/gender_bias_qe/venvs/venv- ...\n",
      "💡 Tip: For seamless cloud uploads and versioning, try installing [litmodels](https://pypi.org/project/litmodels/) to enable LitModelCheckpoint, which syncs automatically with the Lightning model registry.\n",
      "GPU available: True (cuda), used: True\n",
      "TPU available: False, using: 0 TPU cores\n",
      "HPU available: False, using: 0 HPUs\n",
      "LOCAL_RANK: 0 - CUDA_VISIBLE_DEVICES: [0]\n",
      "Predicting DataLoader 0: 100%|██████████████████████████████████████████████████████████████████████████████████████████| 5/5 [00:05<00:00,  1.11s/it]\n"
     ]
    },
    {
     "name": "stdout",
     "output_type": "stream",
     "text": [
      "de\n"
     ]
    },
    {
     "name": "stderr",
     "output_type": "stream",
     "text": [
      "/mnt/data-poseidon/manos/gender_bias_qe/venvs/venv-gender-bias-qe-final/lib/python3.10/site-packages/lightning_fabric/plugins/environments/slurm.py:204: The `srun` command is available on your system but is not used. HINT: If your intention is to run Lightning on SLURM, prepend your python command with `srun` like so: srun python3 /mnt/data-poseidon/manos/gender_bias_qe/venvs/venv- ...\n",
      "💡 Tip: For seamless cloud uploads and versioning, try installing [litmodels](https://pypi.org/project/litmodels/) to enable LitModelCheckpoint, which syncs automatically with the Lightning model registry.\n",
      "GPU available: True (cuda), used: True\n",
      "TPU available: False, using: 0 TPU cores\n",
      "HPU available: False, using: 0 HPUs\n",
      "LOCAL_RANK: 0 - CUDA_VISIBLE_DEVICES: [0]\n"
     ]
    },
    {
     "name": "stdout",
     "output_type": "stream",
     "text": [
      "None\n"
     ]
    },
    {
     "name": "stderr",
     "output_type": "stream",
     "text": [
      "Predicting DataLoader 0: 100%|██████████████████████████████████████████████████████████████████████████████████████████| 5/5 [00:05<00:00,  1.10s/it]\n",
      "/mnt/data-poseidon/manos/gender_bias_qe/venvs/venv-gender-bias-qe-final/lib/python3.10/site-packages/lightning_fabric/plugins/environments/slurm.py:204: The `srun` command is available on your system but is not used. HINT: If your intention is to run Lightning on SLURM, prepend your python command with `srun` like so: srun python3 /mnt/data-poseidon/manos/gender_bias_qe/venvs/venv- ...\n",
      "💡 Tip: For seamless cloud uploads and versioning, try installing [litmodels](https://pypi.org/project/litmodels/) to enable LitModelCheckpoint, which syncs automatically with the Lightning model registry.\n",
      "GPU available: True (cuda), used: True\n",
      "TPU available: False, using: 0 TPU cores\n",
      "HPU available: False, using: 0 HPUs\n",
      "LOCAL_RANK: 0 - CUDA_VISIBLE_DEVICES: [0]\n",
      "Predicting DataLoader 0: 100%|██████████████████████████████████████████████████████████████████████████████████████████| 5/5 [00:05<00:00,  1.10s/it]\n",
      "/mnt/data-poseidon/manos/gender_bias_qe/venvs/venv-gender-bias-qe-final/lib/python3.10/site-packages/lightning_fabric/plugins/environments/slurm.py:204: The `srun` command is available on your system but is not used. HINT: If your intention is to run Lightning on SLURM, prepend your python command with `srun` like so: srun python3 /mnt/data-poseidon/manos/gender_bias_qe/venvs/venv- ...\n",
      "💡 Tip: For seamless cloud uploads and versioning, try installing [litmodels](https://pypi.org/project/litmodels/) to enable LitModelCheckpoint, which syncs automatically with the Lightning model registry.\n",
      "GPU available: True (cuda), used: True\n",
      "TPU available: False, using: 0 TPU cores\n",
      "HPU available: False, using: 0 HPUs\n",
      "LOCAL_RANK: 0 - CUDA_VISIBLE_DEVICES: [0]\n"
     ]
    },
    {
     "name": "stdout",
     "output_type": "stream",
     "text": [
      "Unbabel--wmt22-cometkiwi-da\n"
     ]
    },
    {
     "name": "stderr",
     "output_type": "stream",
     "text": [
      "Predicting DataLoader 0: 100%|██████████████████████████████████████████████████████████████████████████████████████████| 5/5 [00:05<00:00,  1.12s/it]\n",
      "/mnt/data-poseidon/manos/gender_bias_qe/venvs/venv-gender-bias-qe-final/lib/python3.10/site-packages/lightning_fabric/plugins/environments/slurm.py:204: The `srun` command is available on your system but is not used. HINT: If your intention is to run Lightning on SLURM, prepend your python command with `srun` like so: srun python3 /mnt/data-poseidon/manos/gender_bias_qe/venvs/venv- ...\n",
      "💡 Tip: For seamless cloud uploads and versioning, try installing [litmodels](https://pypi.org/project/litmodels/) to enable LitModelCheckpoint, which syncs automatically with the Lightning model registry.\n",
      "GPU available: True (cuda), used: True\n",
      "TPU available: False, using: 0 TPU cores\n",
      "HPU available: False, using: 0 HPUs\n",
      "LOCAL_RANK: 0 - CUDA_VISIBLE_DEVICES: [0]\n",
      "Predicting DataLoader 0: 100%|██████████████████████████████████████████████████████████████████████████████████████████| 5/5 [00:05<00:00,  1.13s/it]\n",
      "/mnt/data-poseidon/manos/gender_bias_qe/venvs/venv-gender-bias-qe-final/lib/python3.10/site-packages/lightning_fabric/plugins/environments/slurm.py:204: The `srun` command is available on your system but is not used. HINT: If your intention is to run Lightning on SLURM, prepend your python command with `srun` like so: srun python3 /mnt/data-poseidon/manos/gender_bias_qe/venvs/venv- ...\n",
      "💡 Tip: For seamless cloud uploads and versioning, try installing [litmodels](https://pypi.org/project/litmodels/) to enable LitModelCheckpoint, which syncs automatically with the Lightning model registry.\n",
      "GPU available: True (cuda), used: True\n",
      "TPU available: False, using: 0 TPU cores\n",
      "HPU available: False, using: 0 HPUs\n",
      "LOCAL_RANK: 0 - CUDA_VISIBLE_DEVICES: [0]\n"
     ]
    },
    {
     "name": "stdout",
     "output_type": "stream",
     "text": [
      "Unbabel--wmt23-cometkiwi-da-xxl\n"
     ]
    },
    {
     "name": "stderr",
     "output_type": "stream",
     "text": [
      "Predicting DataLoader 0: 100%|██████████████████████████████████████████████████████████████████████████████████████████| 5/5 [00:05<00:00,  1.11s/it]\n",
      "/mnt/data-poseidon/manos/gender_bias_qe/venvs/venv-gender-bias-qe-final/lib/python3.10/site-packages/lightning_fabric/plugins/environments/slurm.py:204: The `srun` command is available on your system but is not used. HINT: If your intention is to run Lightning on SLURM, prepend your python command with `srun` like so: srun python3 /mnt/data-poseidon/manos/gender_bias_qe/venvs/venv- ...\n",
      "💡 Tip: For seamless cloud uploads and versioning, try installing [litmodels](https://pypi.org/project/litmodels/) to enable LitModelCheckpoint, which syncs automatically with the Lightning model registry.\n",
      "GPU available: True (cuda), used: True\n",
      "TPU available: False, using: 0 TPU cores\n",
      "HPU available: False, using: 0 HPUs\n",
      "LOCAL_RANK: 0 - CUDA_VISIBLE_DEVICES: [0]\n",
      "Predicting DataLoader 0: 100%|██████████████████████████████████████████████████████████████████████████████████████████| 5/5 [00:05<00:00,  1.11s/it]\n"
     ]
    },
    {
     "name": "stdout",
     "output_type": "stream",
     "text": [
      "es\n"
     ]
    },
    {
     "name": "stderr",
     "output_type": "stream",
     "text": [
      "/mnt/data-poseidon/manos/gender_bias_qe/venvs/venv-gender-bias-qe-final/lib/python3.10/site-packages/lightning_fabric/plugins/environments/slurm.py:204: The `srun` command is available on your system but is not used. HINT: If your intention is to run Lightning on SLURM, prepend your python command with `srun` like so: srun python3 /mnt/data-poseidon/manos/gender_bias_qe/venvs/venv- ...\n",
      "💡 Tip: For seamless cloud uploads and versioning, try installing [litmodels](https://pypi.org/project/litmodels/) to enable LitModelCheckpoint, which syncs automatically with the Lightning model registry.\n",
      "GPU available: True (cuda), used: True\n",
      "TPU available: False, using: 0 TPU cores\n",
      "HPU available: False, using: 0 HPUs\n",
      "LOCAL_RANK: 0 - CUDA_VISIBLE_DEVICES: [0]\n"
     ]
    },
    {
     "name": "stdout",
     "output_type": "stream",
     "text": [
      "None\n"
     ]
    },
    {
     "name": "stderr",
     "output_type": "stream",
     "text": [
      "Predicting DataLoader 0: 100%|██████████████████████████████████████████████████████████████████████████████████████████| 5/5 [00:05<00:00,  1.10s/it]\n",
      "/mnt/data-poseidon/manos/gender_bias_qe/venvs/venv-gender-bias-qe-final/lib/python3.10/site-packages/lightning_fabric/plugins/environments/slurm.py:204: The `srun` command is available on your system but is not used. HINT: If your intention is to run Lightning on SLURM, prepend your python command with `srun` like so: srun python3 /mnt/data-poseidon/manos/gender_bias_qe/venvs/venv- ...\n",
      "💡 Tip: For seamless cloud uploads and versioning, try installing [litmodels](https://pypi.org/project/litmodels/) to enable LitModelCheckpoint, which syncs automatically with the Lightning model registry.\n",
      "GPU available: True (cuda), used: True\n",
      "TPU available: False, using: 0 TPU cores\n",
      "HPU available: False, using: 0 HPUs\n",
      "LOCAL_RANK: 0 - CUDA_VISIBLE_DEVICES: [0]\n",
      "Predicting DataLoader 0: 100%|██████████████████████████████████████████████████████████████████████████████████████████| 5/5 [00:05<00:00,  1.11s/it]\n",
      "/mnt/data-poseidon/manos/gender_bias_qe/venvs/venv-gender-bias-qe-final/lib/python3.10/site-packages/lightning_fabric/plugins/environments/slurm.py:204: The `srun` command is available on your system but is not used. HINT: If your intention is to run Lightning on SLURM, prepend your python command with `srun` like so: srun python3 /mnt/data-poseidon/manos/gender_bias_qe/venvs/venv- ...\n",
      "💡 Tip: For seamless cloud uploads and versioning, try installing [litmodels](https://pypi.org/project/litmodels/) to enable LitModelCheckpoint, which syncs automatically with the Lightning model registry.\n",
      "GPU available: True (cuda), used: True\n",
      "TPU available: False, using: 0 TPU cores\n",
      "HPU available: False, using: 0 HPUs\n",
      "LOCAL_RANK: 0 - CUDA_VISIBLE_DEVICES: [0]\n"
     ]
    },
    {
     "name": "stdout",
     "output_type": "stream",
     "text": [
      "Unbabel--wmt22-cometkiwi-da\n"
     ]
    },
    {
     "name": "stderr",
     "output_type": "stream",
     "text": [
      "Predicting DataLoader 0: 100%|██████████████████████████████████████████████████████████████████████████████████████████| 5/5 [00:05<00:00,  1.12s/it]\n",
      "/mnt/data-poseidon/manos/gender_bias_qe/venvs/venv-gender-bias-qe-final/lib/python3.10/site-packages/lightning_fabric/plugins/environments/slurm.py:204: The `srun` command is available on your system but is not used. HINT: If your intention is to run Lightning on SLURM, prepend your python command with `srun` like so: srun python3 /mnt/data-poseidon/manos/gender_bias_qe/venvs/venv- ...\n",
      "💡 Tip: For seamless cloud uploads and versioning, try installing [litmodels](https://pypi.org/project/litmodels/) to enable LitModelCheckpoint, which syncs automatically with the Lightning model registry.\n",
      "GPU available: True (cuda), used: True\n",
      "TPU available: False, using: 0 TPU cores\n",
      "HPU available: False, using: 0 HPUs\n",
      "LOCAL_RANK: 0 - CUDA_VISIBLE_DEVICES: [0]\n",
      "Predicting DataLoader 0: 100%|██████████████████████████████████████████████████████████████████████████████████████████| 5/5 [00:05<00:00,  1.13s/it]\n",
      "/mnt/data-poseidon/manos/gender_bias_qe/venvs/venv-gender-bias-qe-final/lib/python3.10/site-packages/lightning_fabric/plugins/environments/slurm.py:204: The `srun` command is available on your system but is not used. HINT: If your intention is to run Lightning on SLURM, prepend your python command with `srun` like so: srun python3 /mnt/data-poseidon/manos/gender_bias_qe/venvs/venv- ...\n",
      "💡 Tip: For seamless cloud uploads and versioning, try installing [litmodels](https://pypi.org/project/litmodels/) to enable LitModelCheckpoint, which syncs automatically with the Lightning model registry.\n",
      "GPU available: True (cuda), used: True\n",
      "TPU available: False, using: 0 TPU cores\n",
      "HPU available: False, using: 0 HPUs\n",
      "LOCAL_RANK: 0 - CUDA_VISIBLE_DEVICES: [0]\n"
     ]
    },
    {
     "name": "stdout",
     "output_type": "stream",
     "text": [
      "Unbabel--wmt23-cometkiwi-da-xxl\n"
     ]
    },
    {
     "name": "stderr",
     "output_type": "stream",
     "text": [
      "Predicting DataLoader 0: 100%|██████████████████████████████████████████████████████████████████████████████████████████| 5/5 [00:05<00:00,  1.11s/it]\n",
      "/mnt/data-poseidon/manos/gender_bias_qe/venvs/venv-gender-bias-qe-final/lib/python3.10/site-packages/lightning_fabric/plugins/environments/slurm.py:204: The `srun` command is available on your system but is not used. HINT: If your intention is to run Lightning on SLURM, prepend your python command with `srun` like so: srun python3 /mnt/data-poseidon/manos/gender_bias_qe/venvs/venv- ...\n",
      "💡 Tip: For seamless cloud uploads and versioning, try installing [litmodels](https://pypi.org/project/litmodels/) to enable LitModelCheckpoint, which syncs automatically with the Lightning model registry.\n",
      "GPU available: True (cuda), used: True\n",
      "TPU available: False, using: 0 TPU cores\n",
      "HPU available: False, using: 0 HPUs\n",
      "LOCAL_RANK: 0 - CUDA_VISIBLE_DEVICES: [0]\n",
      "Predicting DataLoader 0: 100%|██████████████████████████████████████████████████████████████████████████████████████████| 5/5 [00:05<00:00,  1.11s/it]\n"
     ]
    },
    {
     "name": "stdout",
     "output_type": "stream",
     "text": [
      "pt\n"
     ]
    },
    {
     "name": "stderr",
     "output_type": "stream",
     "text": [
      "/mnt/data-poseidon/manos/gender_bias_qe/venvs/venv-gender-bias-qe-final/lib/python3.10/site-packages/lightning_fabric/plugins/environments/slurm.py:204: The `srun` command is available on your system but is not used. HINT: If your intention is to run Lightning on SLURM, prepend your python command with `srun` like so: srun python3 /mnt/data-poseidon/manos/gender_bias_qe/venvs/venv- ...\n",
      "💡 Tip: For seamless cloud uploads and versioning, try installing [litmodels](https://pypi.org/project/litmodels/) to enable LitModelCheckpoint, which syncs automatically with the Lightning model registry.\n",
      "GPU available: True (cuda), used: True\n",
      "TPU available: False, using: 0 TPU cores\n",
      "HPU available: False, using: 0 HPUs\n",
      "LOCAL_RANK: 0 - CUDA_VISIBLE_DEVICES: [0]\n"
     ]
    },
    {
     "name": "stdout",
     "output_type": "stream",
     "text": [
      "None\n"
     ]
    },
    {
     "name": "stderr",
     "output_type": "stream",
     "text": [
      "Predicting DataLoader 0: 100%|██████████████████████████████████████████████████████████████████████████████████████████| 5/5 [00:05<00:00,  1.06s/it]\n",
      "/mnt/data-poseidon/manos/gender_bias_qe/venvs/venv-gender-bias-qe-final/lib/python3.10/site-packages/lightning_fabric/plugins/environments/slurm.py:204: The `srun` command is available on your system but is not used. HINT: If your intention is to run Lightning on SLURM, prepend your python command with `srun` like so: srun python3 /mnt/data-poseidon/manos/gender_bias_qe/venvs/venv- ...\n",
      "💡 Tip: For seamless cloud uploads and versioning, try installing [litmodels](https://pypi.org/project/litmodels/) to enable LitModelCheckpoint, which syncs automatically with the Lightning model registry.\n",
      "GPU available: True (cuda), used: True\n",
      "TPU available: False, using: 0 TPU cores\n",
      "HPU available: False, using: 0 HPUs\n",
      "LOCAL_RANK: 0 - CUDA_VISIBLE_DEVICES: [0]\n",
      "Predicting DataLoader 0: 100%|██████████████████████████████████████████████████████████████████████████████████████████| 5/5 [00:05<00:00,  1.06s/it]\n",
      "/mnt/data-poseidon/manos/gender_bias_qe/venvs/venv-gender-bias-qe-final/lib/python3.10/site-packages/lightning_fabric/plugins/environments/slurm.py:204: The `srun` command is available on your system but is not used. HINT: If your intention is to run Lightning on SLURM, prepend your python command with `srun` like so: srun python3 /mnt/data-poseidon/manos/gender_bias_qe/venvs/venv- ...\n",
      "💡 Tip: For seamless cloud uploads and versioning, try installing [litmodels](https://pypi.org/project/litmodels/) to enable LitModelCheckpoint, which syncs automatically with the Lightning model registry.\n",
      "GPU available: True (cuda), used: True\n",
      "TPU available: False, using: 0 TPU cores\n",
      "HPU available: False, using: 0 HPUs\n",
      "LOCAL_RANK: 0 - CUDA_VISIBLE_DEVICES: [0]\n"
     ]
    },
    {
     "name": "stdout",
     "output_type": "stream",
     "text": [
      "Unbabel--wmt22-cometkiwi-da\n"
     ]
    },
    {
     "name": "stderr",
     "output_type": "stream",
     "text": [
      "Predicting DataLoader 0: 100%|██████████████████████████████████████████████████████████████████████████████████████████| 5/5 [00:05<00:00,  1.08s/it]\n",
      "/mnt/data-poseidon/manos/gender_bias_qe/venvs/venv-gender-bias-qe-final/lib/python3.10/site-packages/lightning_fabric/plugins/environments/slurm.py:204: The `srun` command is available on your system but is not used. HINT: If your intention is to run Lightning on SLURM, prepend your python command with `srun` like so: srun python3 /mnt/data-poseidon/manos/gender_bias_qe/venvs/venv- ...\n",
      "💡 Tip: For seamless cloud uploads and versioning, try installing [litmodels](https://pypi.org/project/litmodels/) to enable LitModelCheckpoint, which syncs automatically with the Lightning model registry.\n",
      "GPU available: True (cuda), used: True\n",
      "TPU available: False, using: 0 TPU cores\n",
      "HPU available: False, using: 0 HPUs\n",
      "LOCAL_RANK: 0 - CUDA_VISIBLE_DEVICES: [0]\n",
      "Predicting DataLoader 0: 100%|██████████████████████████████████████████████████████████████████████████████████████████| 5/5 [00:05<00:00,  1.08s/it]\n",
      "/mnt/data-poseidon/manos/gender_bias_qe/venvs/venv-gender-bias-qe-final/lib/python3.10/site-packages/lightning_fabric/plugins/environments/slurm.py:204: The `srun` command is available on your system but is not used. HINT: If your intention is to run Lightning on SLURM, prepend your python command with `srun` like so: srun python3 /mnt/data-poseidon/manos/gender_bias_qe/venvs/venv- ...\n",
      "💡 Tip: For seamless cloud uploads and versioning, try installing [litmodels](https://pypi.org/project/litmodels/) to enable LitModelCheckpoint, which syncs automatically with the Lightning model registry.\n",
      "GPU available: True (cuda), used: True\n",
      "TPU available: False, using: 0 TPU cores\n",
      "HPU available: False, using: 0 HPUs\n",
      "LOCAL_RANK: 0 - CUDA_VISIBLE_DEVICES: [0]\n"
     ]
    },
    {
     "name": "stdout",
     "output_type": "stream",
     "text": [
      "Unbabel--wmt23-cometkiwi-da-xxl\n"
     ]
    },
    {
     "name": "stderr",
     "output_type": "stream",
     "text": [
      "Predicting DataLoader 0: 100%|██████████████████████████████████████████████████████████████████████████████████████████| 5/5 [00:05<00:00,  1.06s/it]\n",
      "/mnt/data-poseidon/manos/gender_bias_qe/venvs/venv-gender-bias-qe-final/lib/python3.10/site-packages/lightning_fabric/plugins/environments/slurm.py:204: The `srun` command is available on your system but is not used. HINT: If your intention is to run Lightning on SLURM, prepend your python command with `srun` like so: srun python3 /mnt/data-poseidon/manos/gender_bias_qe/venvs/venv- ...\n",
      "💡 Tip: For seamless cloud uploads and versioning, try installing [litmodels](https://pypi.org/project/litmodels/) to enable LitModelCheckpoint, which syncs automatically with the Lightning model registry.\n",
      "GPU available: True (cuda), used: True\n",
      "TPU available: False, using: 0 TPU cores\n",
      "HPU available: False, using: 0 HPUs\n",
      "LOCAL_RANK: 0 - CUDA_VISIBLE_DEVICES: [0]\n",
      "Predicting DataLoader 0: 100%|██████████████████████████████████████████████████████████████████████████████████████████| 5/5 [00:05<00:00,  1.06s/it]\n"
     ]
    },
    {
     "name": "stdout",
     "output_type": "stream",
     "text": [
      "fr\n"
     ]
    },
    {
     "name": "stderr",
     "output_type": "stream",
     "text": [
      "/mnt/data-poseidon/manos/gender_bias_qe/venvs/venv-gender-bias-qe-final/lib/python3.10/site-packages/lightning_fabric/plugins/environments/slurm.py:204: The `srun` command is available on your system but is not used. HINT: If your intention is to run Lightning on SLURM, prepend your python command with `srun` like so: srun python3 /mnt/data-poseidon/manos/gender_bias_qe/venvs/venv- ...\n",
      "💡 Tip: For seamless cloud uploads and versioning, try installing [litmodels](https://pypi.org/project/litmodels/) to enable LitModelCheckpoint, which syncs automatically with the Lightning model registry.\n",
      "GPU available: True (cuda), used: True\n",
      "TPU available: False, using: 0 TPU cores\n",
      "HPU available: False, using: 0 HPUs\n",
      "LOCAL_RANK: 0 - CUDA_VISIBLE_DEVICES: [0]\n"
     ]
    },
    {
     "name": "stdout",
     "output_type": "stream",
     "text": [
      "None\n"
     ]
    },
    {
     "name": "stderr",
     "output_type": "stream",
     "text": [
      "Predicting DataLoader 0: 100%|██████████████████████████████████████████████████████████████████████████████████████████| 5/5 [00:05<00:00,  1.19s/it]\n",
      "/mnt/data-poseidon/manos/gender_bias_qe/venvs/venv-gender-bias-qe-final/lib/python3.10/site-packages/lightning_fabric/plugins/environments/slurm.py:204: The `srun` command is available on your system but is not used. HINT: If your intention is to run Lightning on SLURM, prepend your python command with `srun` like so: srun python3 /mnt/data-poseidon/manos/gender_bias_qe/venvs/venv- ...\n",
      "💡 Tip: For seamless cloud uploads and versioning, try installing [litmodels](https://pypi.org/project/litmodels/) to enable LitModelCheckpoint, which syncs automatically with the Lightning model registry.\n",
      "GPU available: True (cuda), used: True\n",
      "TPU available: False, using: 0 TPU cores\n",
      "HPU available: False, using: 0 HPUs\n",
      "LOCAL_RANK: 0 - CUDA_VISIBLE_DEVICES: [0]\n",
      "Predicting DataLoader 0: 100%|██████████████████████████████████████████████████████████████████████████████████████████| 5/5 [00:05<00:00,  1.19s/it]\n",
      "/mnt/data-poseidon/manos/gender_bias_qe/venvs/venv-gender-bias-qe-final/lib/python3.10/site-packages/lightning_fabric/plugins/environments/slurm.py:204: The `srun` command is available on your system but is not used. HINT: If your intention is to run Lightning on SLURM, prepend your python command with `srun` like so: srun python3 /mnt/data-poseidon/manos/gender_bias_qe/venvs/venv- ...\n",
      "💡 Tip: For seamless cloud uploads and versioning, try installing [litmodels](https://pypi.org/project/litmodels/) to enable LitModelCheckpoint, which syncs automatically with the Lightning model registry.\n",
      "GPU available: True (cuda), used: True\n",
      "TPU available: False, using: 0 TPU cores\n",
      "HPU available: False, using: 0 HPUs\n",
      "LOCAL_RANK: 0 - CUDA_VISIBLE_DEVICES: [0]\n"
     ]
    },
    {
     "name": "stdout",
     "output_type": "stream",
     "text": [
      "Unbabel--wmt22-cometkiwi-da\n"
     ]
    },
    {
     "name": "stderr",
     "output_type": "stream",
     "text": [
      "Predicting DataLoader 0: 100%|██████████████████████████████████████████████████████████████████████████████████████████| 5/5 [00:06<00:00,  1.20s/it]\n",
      "/mnt/data-poseidon/manos/gender_bias_qe/venvs/venv-gender-bias-qe-final/lib/python3.10/site-packages/lightning_fabric/plugins/environments/slurm.py:204: The `srun` command is available on your system but is not used. HINT: If your intention is to run Lightning on SLURM, prepend your python command with `srun` like so: srun python3 /mnt/data-poseidon/manos/gender_bias_qe/venvs/venv- ...\n",
      "💡 Tip: For seamless cloud uploads and versioning, try installing [litmodels](https://pypi.org/project/litmodels/) to enable LitModelCheckpoint, which syncs automatically with the Lightning model registry.\n",
      "GPU available: True (cuda), used: True\n",
      "TPU available: False, using: 0 TPU cores\n",
      "HPU available: False, using: 0 HPUs\n",
      "LOCAL_RANK: 0 - CUDA_VISIBLE_DEVICES: [0]\n",
      "Predicting DataLoader 0: 100%|██████████████████████████████████████████████████████████████████████████████████████████| 5/5 [00:05<00:00,  1.20s/it]\n",
      "/mnt/data-poseidon/manos/gender_bias_qe/venvs/venv-gender-bias-qe-final/lib/python3.10/site-packages/lightning_fabric/plugins/environments/slurm.py:204: The `srun` command is available on your system but is not used. HINT: If your intention is to run Lightning on SLURM, prepend your python command with `srun` like so: srun python3 /mnt/data-poseidon/manos/gender_bias_qe/venvs/venv- ...\n",
      "💡 Tip: For seamless cloud uploads and versioning, try installing [litmodels](https://pypi.org/project/litmodels/) to enable LitModelCheckpoint, which syncs automatically with the Lightning model registry.\n",
      "GPU available: True (cuda), used: True\n",
      "TPU available: False, using: 0 TPU cores\n",
      "HPU available: False, using: 0 HPUs\n",
      "LOCAL_RANK: 0 - CUDA_VISIBLE_DEVICES: [0]\n"
     ]
    },
    {
     "name": "stdout",
     "output_type": "stream",
     "text": [
      "Unbabel--wmt23-cometkiwi-da-xxl\n"
     ]
    },
    {
     "name": "stderr",
     "output_type": "stream",
     "text": [
      "Predicting DataLoader 0: 100%|██████████████████████████████████████████████████████████████████████████████████████████| 5/5 [00:05<00:00,  1.19s/it]\n",
      "/mnt/data-poseidon/manos/gender_bias_qe/venvs/venv-gender-bias-qe-final/lib/python3.10/site-packages/lightning_fabric/plugins/environments/slurm.py:204: The `srun` command is available on your system but is not used. HINT: If your intention is to run Lightning on SLURM, prepend your python command with `srun` like so: srun python3 /mnt/data-poseidon/manos/gender_bias_qe/venvs/venv- ...\n",
      "💡 Tip: For seamless cloud uploads and versioning, try installing [litmodels](https://pypi.org/project/litmodels/) to enable LitModelCheckpoint, which syncs automatically with the Lightning model registry.\n",
      "GPU available: True (cuda), used: True\n",
      "TPU available: False, using: 0 TPU cores\n",
      "HPU available: False, using: 0 HPUs\n",
      "LOCAL_RANK: 0 - CUDA_VISIBLE_DEVICES: [0]\n",
      "Predicting DataLoader 0: 100%|██████████████████████████████████████████████████████████████████████████████████████████| 5/5 [00:05<00:00,  1.19s/it]\n"
     ]
    },
    {
     "name": "stdout",
     "output_type": "stream",
     "text": [
      "ru\n"
     ]
    },
    {
     "name": "stderr",
     "output_type": "stream",
     "text": [
      "/mnt/data-poseidon/manos/gender_bias_qe/venvs/venv-gender-bias-qe-final/lib/python3.10/site-packages/lightning_fabric/plugins/environments/slurm.py:204: The `srun` command is available on your system but is not used. HINT: If your intention is to run Lightning on SLURM, prepend your python command with `srun` like so: srun python3 /mnt/data-poseidon/manos/gender_bias_qe/venvs/venv- ...\n",
      "💡 Tip: For seamless cloud uploads and versioning, try installing [litmodels](https://pypi.org/project/litmodels/) to enable LitModelCheckpoint, which syncs automatically with the Lightning model registry.\n",
      "GPU available: True (cuda), used: True\n",
      "TPU available: False, using: 0 TPU cores\n",
      "HPU available: False, using: 0 HPUs\n",
      "LOCAL_RANK: 0 - CUDA_VISIBLE_DEVICES: [0]\n"
     ]
    },
    {
     "name": "stdout",
     "output_type": "stream",
     "text": [
      "None\n"
     ]
    },
    {
     "name": "stderr",
     "output_type": "stream",
     "text": [
      "Predicting DataLoader 0: 100%|██████████████████████████████████████████████████████████████████████████████████████████| 5/5 [00:05<00:00,  1.16s/it]\n",
      "/mnt/data-poseidon/manos/gender_bias_qe/venvs/venv-gender-bias-qe-final/lib/python3.10/site-packages/lightning_fabric/plugins/environments/slurm.py:204: The `srun` command is available on your system but is not used. HINT: If your intention is to run Lightning on SLURM, prepend your python command with `srun` like so: srun python3 /mnt/data-poseidon/manos/gender_bias_qe/venvs/venv- ...\n",
      "💡 Tip: For seamless cloud uploads and versioning, try installing [litmodels](https://pypi.org/project/litmodels/) to enable LitModelCheckpoint, which syncs automatically with the Lightning model registry.\n",
      "GPU available: True (cuda), used: True\n",
      "TPU available: False, using: 0 TPU cores\n",
      "HPU available: False, using: 0 HPUs\n",
      "LOCAL_RANK: 0 - CUDA_VISIBLE_DEVICES: [0]\n",
      "Predicting DataLoader 0: 100%|██████████████████████████████████████████████████████████████████████████████████████████| 5/5 [00:05<00:00,  1.15s/it]\n",
      "/mnt/data-poseidon/manos/gender_bias_qe/venvs/venv-gender-bias-qe-final/lib/python3.10/site-packages/lightning_fabric/plugins/environments/slurm.py:204: The `srun` command is available on your system but is not used. HINT: If your intention is to run Lightning on SLURM, prepend your python command with `srun` like so: srun python3 /mnt/data-poseidon/manos/gender_bias_qe/venvs/venv- ...\n",
      "💡 Tip: For seamless cloud uploads and versioning, try installing [litmodels](https://pypi.org/project/litmodels/) to enable LitModelCheckpoint, which syncs automatically with the Lightning model registry.\n",
      "GPU available: True (cuda), used: True\n",
      "TPU available: False, using: 0 TPU cores\n",
      "HPU available: False, using: 0 HPUs\n",
      "LOCAL_RANK: 0 - CUDA_VISIBLE_DEVICES: [0]\n"
     ]
    },
    {
     "name": "stdout",
     "output_type": "stream",
     "text": [
      "Unbabel--wmt22-cometkiwi-da\n"
     ]
    },
    {
     "name": "stderr",
     "output_type": "stream",
     "text": [
      "Predicting DataLoader 0: 100%|██████████████████████████████████████████████████████████████████████████████████████████| 5/5 [00:05<00:00,  1.17s/it]\n",
      "/mnt/data-poseidon/manos/gender_bias_qe/venvs/venv-gender-bias-qe-final/lib/python3.10/site-packages/lightning_fabric/plugins/environments/slurm.py:204: The `srun` command is available on your system but is not used. HINT: If your intention is to run Lightning on SLURM, prepend your python command with `srun` like so: srun python3 /mnt/data-poseidon/manos/gender_bias_qe/venvs/venv- ...\n",
      "💡 Tip: For seamless cloud uploads and versioning, try installing [litmodels](https://pypi.org/project/litmodels/) to enable LitModelCheckpoint, which syncs automatically with the Lightning model registry.\n",
      "GPU available: True (cuda), used: True\n",
      "TPU available: False, using: 0 TPU cores\n",
      "HPU available: False, using: 0 HPUs\n",
      "LOCAL_RANK: 0 - CUDA_VISIBLE_DEVICES: [0]\n",
      "Predicting DataLoader 0: 100%|██████████████████████████████████████████████████████████████████████████████████████████| 5/5 [00:05<00:00,  1.17s/it]\n",
      "/mnt/data-poseidon/manos/gender_bias_qe/venvs/venv-gender-bias-qe-final/lib/python3.10/site-packages/lightning_fabric/plugins/environments/slurm.py:204: The `srun` command is available on your system but is not used. HINT: If your intention is to run Lightning on SLURM, prepend your python command with `srun` like so: srun python3 /mnt/data-poseidon/manos/gender_bias_qe/venvs/venv- ...\n",
      "💡 Tip: For seamless cloud uploads and versioning, try installing [litmodels](https://pypi.org/project/litmodels/) to enable LitModelCheckpoint, which syncs automatically with the Lightning model registry.\n",
      "GPU available: True (cuda), used: True\n",
      "TPU available: False, using: 0 TPU cores\n",
      "HPU available: False, using: 0 HPUs\n",
      "LOCAL_RANK: 0 - CUDA_VISIBLE_DEVICES: [0]\n"
     ]
    },
    {
     "name": "stdout",
     "output_type": "stream",
     "text": [
      "Unbabel--wmt23-cometkiwi-da-xxl\n"
     ]
    },
    {
     "name": "stderr",
     "output_type": "stream",
     "text": [
      "Predicting DataLoader 0: 100%|██████████████████████████████████████████████████████████████████████████████████████████| 5/5 [00:05<00:00,  1.16s/it]\n",
      "/mnt/data-poseidon/manos/gender_bias_qe/venvs/venv-gender-bias-qe-final/lib/python3.10/site-packages/lightning_fabric/plugins/environments/slurm.py:204: The `srun` command is available on your system but is not used. HINT: If your intention is to run Lightning on SLURM, prepend your python command with `srun` like so: srun python3 /mnt/data-poseidon/manos/gender_bias_qe/venvs/venv- ...\n",
      "💡 Tip: For seamless cloud uploads and versioning, try installing [litmodels](https://pypi.org/project/litmodels/) to enable LitModelCheckpoint, which syncs automatically with the Lightning model registry.\n",
      "GPU available: True (cuda), used: True\n",
      "TPU available: False, using: 0 TPU cores\n",
      "HPU available: False, using: 0 HPUs\n",
      "LOCAL_RANK: 0 - CUDA_VISIBLE_DEVICES: [0]\n",
      "Predicting DataLoader 0: 100%|██████████████████████████████████████████████████████████████████████████████████████████| 5/5 [00:05<00:00,  1.16s/it]\n"
     ]
    },
    {
     "data": {
      "text/html": [
       "<div>\n",
       "<style scoped>\n",
       "    .dataframe tbody tr th:only-of-type {\n",
       "        vertical-align: middle;\n",
       "    }\n",
       "\n",
       "    .dataframe tbody tr th {\n",
       "        vertical-align: top;\n",
       "    }\n",
       "\n",
       "    .dataframe thead th {\n",
       "        text-align: right;\n",
       "    }\n",
       "</style>\n",
       "<table border=\"1\" class=\"dataframe\">\n",
       "  <thead>\n",
       "    <tr style=\"text-align: right;\">\n",
       "      <th></th>\n",
       "      <th>orig_id</th>\n",
       "      <th>context</th>\n",
       "      <th>source</th>\n",
       "      <th>reference_original</th>\n",
       "      <th>reference_flipped</th>\n",
       "      <th>language</th>\n",
       "      <th>gender</th>\n",
       "      <th>reference_male</th>\n",
       "      <th>reference_female</th>\n",
       "      <th>type</th>\n",
       "      <th>gender_decision</th>\n",
       "      <th>comet_f</th>\n",
       "      <th>comet_m</th>\n",
       "    </tr>\n",
       "  </thead>\n",
       "  <tbody>\n",
       "    <tr>\n",
       "      <th>0</th>\n",
       "      <td>0</td>\n",
       "      <td>During the 1870s, several incidents made Alexa...</td>\n",
       "      <td>The first incident involved Seligman's declini...</td>\n",
       "      <td>Il primo incidente fu dovuto al rifiuto da par...</td>\n",
       "      <td>Il primo incidente fu dovuto al rifiuto da par...</td>\n",
       "      <td>it</td>\n",
       "      <td>male</td>\n",
       "      <td>Il primo incidente fu dovuto al rifiuto da par...</td>\n",
       "      <td>Il primo incidente fu dovuto al rifiuto da par...</td>\n",
       "      <td>greedy</td>\n",
       "      <td>Correct</td>\n",
       "      <td>0.820915</td>\n",
       "      <td>0.848020</td>\n",
       "    </tr>\n",
       "    <tr>\n",
       "      <th>1</th>\n",
       "      <td>1</td>\n",
       "      <td>He then went to Sydney and then Melbourne hold...</td>\n",
       "      <td>Evergood was a capable artist, who mostly pain...</td>\n",
       "      <td>Evergood fu un artista capace, che dipinse pri...</td>\n",
       "      <td>Evergood fu un'artista capace, che dipinse pri...</td>\n",
       "      <td>it</td>\n",
       "      <td>male</td>\n",
       "      <td>Evergood fu un artista capace, che dipinse pri...</td>\n",
       "      <td>Evergood fu un'artista capace, che dipinse pri...</td>\n",
       "      <td>greedy</td>\n",
       "      <td>Correct</td>\n",
       "      <td>0.939206</td>\n",
       "      <td>0.940351</td>\n",
       "    </tr>\n",
       "    <tr>\n",
       "      <th>2</th>\n",
       "      <td>2</td>\n",
       "      <td>His work was originally designed for the gate ...</td>\n",
       "      <td>The first design was ready in 1970 but, due to...</td>\n",
       "      <td>La prima versione era pronta nel 1970 ma, a ca...</td>\n",
       "      <td>La prima versione era pronta nel 1970 ma, a ca...</td>\n",
       "      <td>it</td>\n",
       "      <td>male</td>\n",
       "      <td>La prima versione era pronta nel 1970 ma, a ca...</td>\n",
       "      <td>La prima versione era pronta nel 1970 ma, a ca...</td>\n",
       "      <td>greedy</td>\n",
       "      <td>None</td>\n",
       "      <td>0.880402</td>\n",
       "      <td>0.916238</td>\n",
       "    </tr>\n",
       "    <tr>\n",
       "      <th>3</th>\n",
       "      <td>3</td>\n",
       "      <td>Motl is described as having a natural talent f...</td>\n",
       "      <td>Some episodes indicate that the author intende...</td>\n",
       "      <td>Alcuni episodi sembrano indicare che l'autore ...</td>\n",
       "      <td>Alcuni episodi sembrano indicare che l'autrice...</td>\n",
       "      <td>it</td>\n",
       "      <td>male</td>\n",
       "      <td>Alcuni episodi sembrano indicare che l'autore ...</td>\n",
       "      <td>Alcuni episodi sembrano indicare che l'autrice...</td>\n",
       "      <td>greedy</td>\n",
       "      <td>Correct</td>\n",
       "      <td>0.898696</td>\n",
       "      <td>0.893230</td>\n",
       "    </tr>\n",
       "    <tr>\n",
       "      <th>4</th>\n",
       "      <td>4</td>\n",
       "      <td>In 1866 he became an instructor in palaeontolo...</td>\n",
       "      <td>Although an excellent teacher, and especially ...</td>\n",
       "      <td>Nonostante fosse un professore eccellente, un ...</td>\n",
       "      <td>Nonostante fosse una professoressa eccellente,...</td>\n",
       "      <td>it</td>\n",
       "      <td>male</td>\n",
       "      <td>Nonostante fosse un professore eccellente, un ...</td>\n",
       "      <td>Nonostante fosse una professoressa eccellente,...</td>\n",
       "      <td>greedy</td>\n",
       "      <td>Correct</td>\n",
       "      <td>0.844036</td>\n",
       "      <td>0.895334</td>\n",
       "    </tr>\n",
       "    <tr>\n",
       "      <th>5</th>\n",
       "      <td>5</td>\n",
       "      <td>It was found that three cooks had prepared the...</td>\n",
       "      <td>The lesions on the cook’s fingers were found t...</td>\n",
       "      <td>Si scoprì che le lesioni sulle dita del cuoco ...</td>\n",
       "      <td>Si scoprì che le lesioni sulle dita della cuoc...</td>\n",
       "      <td>it</td>\n",
       "      <td>male</td>\n",
       "      <td>Si scoprì che le lesioni sulle dita del cuoco ...</td>\n",
       "      <td>Si scoprì che le lesioni sulle dita della cuoc...</td>\n",
       "      <td>greedy</td>\n",
       "      <td>Incorrect</td>\n",
       "      <td>0.942081</td>\n",
       "      <td>0.935867</td>\n",
       "    </tr>\n",
       "    <tr>\n",
       "      <th>6</th>\n",
       "      <td>6</td>\n",
       "      <td>Since a journal is written from the perspectiv...</td>\n",
       "      <td>The form lends itself to plotlessness, since t...</td>\n",
       "      <td>La forma tende a mettere in secondo piano la t...</td>\n",
       "      <td>La forma tende a mettere in secondo piano la t...</td>\n",
       "      <td>it</td>\n",
       "      <td>male</td>\n",
       "      <td>La forma tende a mettere in secondo piano la t...</td>\n",
       "      <td>La forma tende a mettere in secondo piano la t...</td>\n",
       "      <td>greedy</td>\n",
       "      <td>Correct</td>\n",
       "      <td>0.854829</td>\n",
       "      <td>0.869448</td>\n",
       "    </tr>\n",
       "    <tr>\n",
       "      <th>7</th>\n",
       "      <td>7</td>\n",
       "      <td>Various attempts have been made to clear up th...</td>\n",
       "      <td>Methodius had a comprehensive philosophical ed...</td>\n",
       "      <td>Metodio aveva una formazione filosofica comple...</td>\n",
       "      <td>Metodio aveva una formazione filosofica comple...</td>\n",
       "      <td>it</td>\n",
       "      <td>male</td>\n",
       "      <td>Metodio aveva una formazione filosofica comple...</td>\n",
       "      <td>Metodio aveva una formazione filosofica comple...</td>\n",
       "      <td>greedy</td>\n",
       "      <td>Correct</td>\n",
       "      <td>0.894835</td>\n",
       "      <td>0.950736</td>\n",
       "    </tr>\n",
       "    <tr>\n",
       "      <th>8</th>\n",
       "      <td>8</td>\n",
       "      <td>In 1849, he was appointed to a teaching post i...</td>\n",
       "      <td>Fabre was a popular teacher, physicist, chemis...</td>\n",
       "      <td>Fabre era un insegnante popolare, fisico, chim...</td>\n",
       "      <td>Fabre era un'insegnante popolare, fisica, chim...</td>\n",
       "      <td>it</td>\n",
       "      <td>male</td>\n",
       "      <td>Fabre era un insegnante popolare, fisico, chim...</td>\n",
       "      <td>Fabre era un'insegnante popolare, fisica, chim...</td>\n",
       "      <td>greedy</td>\n",
       "      <td>Correct</td>\n",
       "      <td>0.883230</td>\n",
       "      <td>0.938811</td>\n",
       "    </tr>\n",
       "    <tr>\n",
       "      <th>9</th>\n",
       "      <td>9</td>\n",
       "      <td>Though baptised as Emilio Stanley by Italian m...</td>\n",
       "      <td>Kibaki turned out to be an exemplary student.</td>\n",
       "      <td>Kibaki si rivelò uno studente esemplare.</td>\n",
       "      <td>Kibaki si rivelò una studentessa esemplare.</td>\n",
       "      <td>it</td>\n",
       "      <td>male</td>\n",
       "      <td>Kibaki si rivelò uno studente esemplare.</td>\n",
       "      <td>Kibaki si rivelò una studentessa esemplare.</td>\n",
       "      <td>greedy</td>\n",
       "      <td>Correct</td>\n",
       "      <td>0.881943</td>\n",
       "      <td>0.910661</td>\n",
       "    </tr>\n",
       "  </tbody>\n",
       "</table>\n",
       "</div>"
      ],
      "text/plain": [
       "   orig_id                                            context  \\\n",
       "0        0  During the 1870s, several incidents made Alexa...   \n",
       "1        1  He then went to Sydney and then Melbourne hold...   \n",
       "2        2  His work was originally designed for the gate ...   \n",
       "3        3  Motl is described as having a natural talent f...   \n",
       "4        4  In 1866 he became an instructor in palaeontolo...   \n",
       "5        5  It was found that three cooks had prepared the...   \n",
       "6        6  Since a journal is written from the perspectiv...   \n",
       "7        7  Various attempts have been made to clear up th...   \n",
       "8        8  In 1849, he was appointed to a teaching post i...   \n",
       "9        9  Though baptised as Emilio Stanley by Italian m...   \n",
       "\n",
       "                                              source  \\\n",
       "0  The first incident involved Seligman's declini...   \n",
       "1  Evergood was a capable artist, who mostly pain...   \n",
       "2  The first design was ready in 1970 but, due to...   \n",
       "3  Some episodes indicate that the author intende...   \n",
       "4  Although an excellent teacher, and especially ...   \n",
       "5  The lesions on the cook’s fingers were found t...   \n",
       "6  The form lends itself to plotlessness, since t...   \n",
       "7  Methodius had a comprehensive philosophical ed...   \n",
       "8  Fabre was a popular teacher, physicist, chemis...   \n",
       "9      Kibaki turned out to be an exemplary student.   \n",
       "\n",
       "                                  reference_original  \\\n",
       "0  Il primo incidente fu dovuto al rifiuto da par...   \n",
       "1  Evergood fu un artista capace, che dipinse pri...   \n",
       "2  La prima versione era pronta nel 1970 ma, a ca...   \n",
       "3  Alcuni episodi sembrano indicare che l'autore ...   \n",
       "4  Nonostante fosse un professore eccellente, un ...   \n",
       "5  Si scoprì che le lesioni sulle dita del cuoco ...   \n",
       "6  La forma tende a mettere in secondo piano la t...   \n",
       "7  Metodio aveva una formazione filosofica comple...   \n",
       "8  Fabre era un insegnante popolare, fisico, chim...   \n",
       "9           Kibaki si rivelò uno studente esemplare.   \n",
       "\n",
       "                                   reference_flipped language gender  \\\n",
       "0  Il primo incidente fu dovuto al rifiuto da par...       it   male   \n",
       "1  Evergood fu un'artista capace, che dipinse pri...       it   male   \n",
       "2  La prima versione era pronta nel 1970 ma, a ca...       it   male   \n",
       "3  Alcuni episodi sembrano indicare che l'autrice...       it   male   \n",
       "4  Nonostante fosse una professoressa eccellente,...       it   male   \n",
       "5  Si scoprì che le lesioni sulle dita della cuoc...       it   male   \n",
       "6  La forma tende a mettere in secondo piano la t...       it   male   \n",
       "7  Metodio aveva una formazione filosofica comple...       it   male   \n",
       "8  Fabre era un'insegnante popolare, fisica, chim...       it   male   \n",
       "9        Kibaki si rivelò una studentessa esemplare.       it   male   \n",
       "\n",
       "                                      reference_male  \\\n",
       "0  Il primo incidente fu dovuto al rifiuto da par...   \n",
       "1  Evergood fu un artista capace, che dipinse pri...   \n",
       "2  La prima versione era pronta nel 1970 ma, a ca...   \n",
       "3  Alcuni episodi sembrano indicare che l'autore ...   \n",
       "4  Nonostante fosse un professore eccellente, un ...   \n",
       "5  Si scoprì che le lesioni sulle dita del cuoco ...   \n",
       "6  La forma tende a mettere in secondo piano la t...   \n",
       "7  Metodio aveva una formazione filosofica comple...   \n",
       "8  Fabre era un insegnante popolare, fisico, chim...   \n",
       "9           Kibaki si rivelò uno studente esemplare.   \n",
       "\n",
       "                                    reference_female    type gender_decision  \\\n",
       "0  Il primo incidente fu dovuto al rifiuto da par...  greedy         Correct   \n",
       "1  Evergood fu un'artista capace, che dipinse pri...  greedy         Correct   \n",
       "2  La prima versione era pronta nel 1970 ma, a ca...  greedy            None   \n",
       "3  Alcuni episodi sembrano indicare che l'autrice...  greedy         Correct   \n",
       "4  Nonostante fosse una professoressa eccellente,...  greedy         Correct   \n",
       "5  Si scoprì che le lesioni sulle dita della cuoc...  greedy       Incorrect   \n",
       "6  La forma tende a mettere in secondo piano la t...  greedy         Correct   \n",
       "7  Metodio aveva una formazione filosofica comple...  greedy         Correct   \n",
       "8  Fabre era un'insegnante popolare, fisica, chim...  greedy         Correct   \n",
       "9        Kibaki si rivelò una studentessa esemplare.  greedy         Correct   \n",
       "\n",
       "    comet_f   comet_m  \n",
       "0  0.820915  0.848020  \n",
       "1  0.939206  0.940351  \n",
       "2  0.880402  0.916238  \n",
       "3  0.898696  0.893230  \n",
       "4  0.844036  0.895334  \n",
       "5  0.942081  0.935867  \n",
       "6  0.854829  0.869448  \n",
       "7  0.894835  0.950736  \n",
       "8  0.883230  0.938811  \n",
       "9  0.881943  0.910661  "
      ]
     },
     "execution_count": 32,
     "metadata": {},
     "output_type": "execute_result"
    }
   ],
   "source": [
    "langs = [\"it\" , \"de\", \"es\", \"pt\", \"fr\", \"ru\"]\n",
    "metric_names = [None, \"Unbabel--wmt22-cometkiwi-da\" , \"Unbabel--wmt23-cometkiwi-da-xxl\"]\n",
    "\n",
    "# read contextual data from mtgeneval\n",
    "all_data_df = []\n",
    "scores = []\n",
    "for lang in langs:\n",
    "    print(lang)\n",
    "    mydata =  load_dataset(\"gsarti/mt_geneval\", f\"context_en_{lang}\", split=\"test\").to_pandas()\n",
    "    gender_info = pd.read_csv(f\"./data/mtgeneval/context_genders/geneval-context-en{lang}-genders.txt\", sep=\"\\t\")\n",
    "    # df = mydata.copy()\n",
    "    # df[\"language\"] = lang\n",
    "    # df[\"gender\"] = gender_info[\"gender\"]\n",
    "    # df[\"reference_male\"] = df.apply(lambda x: x[\"reference_original\"] if x[\"gender\"] == \"male\" else x[\"reference_flipped\"], axis=1)\n",
    "    # df[\"reference_female\"] = df.apply(lambda x: x[\"reference_original\"] if x[\"gender\"] == \"female\" else x[\"reference_flipped\"], axis=1)\n",
    "    # Create base dataframe with common columns\n",
    "    base_df = mydata.copy()\n",
    "    base_df[\"language\"] = lang\n",
    "    base_df[\"gender\"] = gender_info[\"gender\"]\n",
    "    base_df[\"reference_male\"] = base_df.apply(lambda x: x[\"reference_original\"] if x[\"gender\"] == \"male\" else x[\"reference_flipped\"], axis=1)\n",
    "    base_df[\"reference_female\"] = base_df.apply(lambda x: x[\"reference_original\"] if x[\"gender\"] == \"female\" else x[\"reference_flipped\"], axis=1)\n",
    "    \n",
    "    # print(df.columns)\n",
    "    for metric in metric_names:\n",
    "        print(metric)\n",
    "        df = base_df.copy()\n",
    "        sources, translations = read_translations(lang, metric_name=metric)\n",
    "        if metric is not None:\n",
    "            df[\"type\"] = f\"reranking-{metric}\"\n",
    "        else:\n",
    "            df[\"type\"] = \"greedy\"\n",
    "        comet_f = comet_metric.predict([{\"mt\": y, \"ref\":z, \"src\": x} \n",
    "                                                for x, y, z in zip(sources,translations, df[\"reference_female\"])], \n",
    "                                                batch_size=256, gpus=1, progress_bar=True, devices=[0])['scores']\n",
    "        comet_m = comet_metric.predict([{\"mt\": y, \"ref\":z, \"src\": x} \n",
    "                                                for x, y, z in zip(sources,translations, df[\"reference_male\"])], \n",
    "                                                batch_size=256, gpus=1, progress_bar=True, devices=[0])['scores']\n",
    "        gender_decisions = [gender_decision(trg_line, orig_ref, ctf_ref) for (trg_line, orig_ref, ctf_ref) in zip(translations, df[\"reference_male\"], df[\"reference_female\"])]\n",
    "        df[\"gender_decision\"] = gender_decisions\n",
    "        df[\"comet_f\"] = comet_f\n",
    "        df[\"comet_m\"] = comet_m\n",
    "\n",
    "        # scores.append([lang, df[\"type\"].iloc[0], comet_f, comet_m, gender_decisions.count('Correct')/len(gender_decisions),  gender_decisions.count('Incorrect')/len(gender_decisions)])\n",
    "        all_data_df.append(df)\n",
    "\n",
    "all_data_df = pd.concat(all_data_df)\n",
    "all_data_df.head(10)\n",
    "    "
   ]
  },
  {
   "cell_type": "code",
   "execution_count": 33,
   "metadata": {},
   "outputs": [
    {
     "data": {
      "text/plain": [
       "array(['greedy', 'reranking-Unbabel--wmt22-cometkiwi-da',\n",
       "       'reranking-Unbabel--wmt23-cometkiwi-da-xxl'], dtype=object)"
      ]
     },
     "execution_count": 33,
     "metadata": {},
     "output_type": "execute_result"
    }
   ],
   "source": [
    "all_data_df['type'].unique()"
   ]
  },
  {
   "cell_type": "code",
   "execution_count": 35,
   "metadata": {},
   "outputs": [
    {
     "name": "stdout",
     "output_type": "stream",
     "text": [
      "('greedy',)\n",
      "comet_f:  86.7316002191001\n",
      "comet_m:  88.45331172390019\n",
      "Accuracy_M:  0.6 Accuracy_F:  0.17\n",
      "('reranking-Unbabel--wmt22-cometkiwi-da',)\n",
      "comet_f:  87.66178641911154\n",
      "comet_m:  89.38722326767122\n",
      "Accuracy_M:  0.6 Accuracy_F:  0.15\n",
      "('reranking-Unbabel--wmt23-cometkiwi-da-xxl',)\n",
      "comet_f:  87.46386991514193\n",
      "comet_m:  89.10848779740323\n",
      "Accuracy_M:  0.58 Accuracy_F:  0.17\n"
     ]
    }
   ],
   "source": [
    "for group, df in all_data_df.groupby([\"type\"]):\n",
    "    print(group)\n",
    "    print(\"comet_f: \", np.mean(df[\"comet_f\"]*100))\n",
    "    print(\"comet_m: \", np.mean(df[\"comet_m\"]*100))\n",
    "    df_correct = df[df[\"gender_decision\"] == \"Correct\"]\n",
    "    df_incorrect = df[df[\"gender_decision\"] == \"Incorrect\"]\n",
    "    print(\"Accuracy_M: \", round(df_correct.shape[0]/df.shape[0], 2), \"Accuracy_F: \", round(df_incorrect.shape[0]/df.shape[0], 2))"
   ]
  },
  {
   "cell_type": "code",
   "execution_count": 36,
   "metadata": {},
   "outputs": [
    {
     "name": "stdout",
     "output_type": "stream",
     "text": [
      "('de', 'greedy')\n",
      "comet_f:  85.79945681311868\n",
      "comet_m:  87.55245886065744\n",
      "Accuracy_M:  0.6 Accuracy_F:  0.14\n",
      "('de', 'reranking-Unbabel--wmt22-cometkiwi-da')\n",
      "comet_f:  87.09587809172544\n",
      "comet_m:  88.69929933006114\n",
      "Accuracy_M:  0.61 Accuracy_F:  0.13\n",
      "('de', 'reranking-Unbabel--wmt23-cometkiwi-da-xxl')\n",
      "comet_f:  86.7828196070411\n",
      "comet_m:  88.32224016297947\n",
      "Accuracy_M:  0.58 Accuracy_F:  0.16\n",
      "('es', 'greedy')\n",
      "comet_f:  87.5860335074202\n",
      "comet_m:  89.38067698456945\n",
      "Accuracy_M:  0.65 Accuracy_F:  0.19\n",
      "('es', 'reranking-Unbabel--wmt22-cometkiwi-da')\n",
      "comet_f:  87.66792303454267\n",
      "comet_m:  89.50606274561291\n",
      "Accuracy_M:  0.66 Accuracy_F:  0.17\n",
      "('es', 'reranking-Unbabel--wmt23-cometkiwi-da-xxl')\n",
      "comet_f:  87.66287116564973\n",
      "comet_m:  89.27949787708965\n",
      "Accuracy_M:  0.63 Accuracy_F:  0.21\n",
      "('fr', 'greedy')\n",
      "comet_f:  85.73130448641183\n",
      "comet_m:  87.79363691047499\n",
      "Accuracy_M:  0.63 Accuracy_F:  0.15\n",
      "('fr', 'reranking-Unbabel--wmt22-cometkiwi-da')\n",
      "comet_f:  86.35298172054343\n",
      "comet_m:  88.42315870160076\n",
      "Accuracy_M:  0.57 Accuracy_F:  0.15\n",
      "('fr', 'reranking-Unbabel--wmt23-cometkiwi-da-xxl')\n",
      "comet_f:  85.98166819699142\n",
      "comet_m:  88.07825186883893\n",
      "Accuracy_M:  0.59 Accuracy_F:  0.14\n",
      "('it', 'greedy')\n",
      "comet_f:  87.10251291720043\n",
      "comet_m:  88.92378686387535\n",
      "Accuracy_M:  0.6 Accuracy_F:  0.16\n",
      "('it', 'reranking-Unbabel--wmt22-cometkiwi-da')\n",
      "comet_f:  87.87746409284567\n",
      "comet_m:  89.80727614715722\n",
      "Accuracy_M:  0.6 Accuracy_F:  0.13\n",
      "('it', 'reranking-Unbabel--wmt23-cometkiwi-da-xxl')\n",
      "comet_f:  87.68547375088853\n",
      "comet_m:  89.5864353155959\n",
      "Accuracy_M:  0.61 Accuracy_F:  0.13\n",
      "('pt', 'greedy')\n",
      "comet_f:  87.42459074853208\n",
      "comet_m:  88.97474167049205\n",
      "Accuracy_M:  0.61 Accuracy_F:  0.21\n",
      "('pt', 'reranking-Unbabel--wmt22-cometkiwi-da')\n",
      "comet_f:  87.89890853498264\n",
      "comet_m:  89.44390823908964\n",
      "Accuracy_M:  0.62 Accuracy_F:  0.19\n",
      "('pt', 'reranking-Unbabel--wmt23-cometkiwi-da-xxl')\n",
      "comet_f:  87.73745165930853\n",
      "comet_m:  89.23327605914807\n",
      "Accuracy_M:  0.6 Accuracy_F:  0.21\n",
      "('ru', 'greedy')\n",
      "comet_f:  86.75685357776555\n",
      "comet_m:  88.10512211376971\n",
      "Accuracy_M:  0.5 Accuracy_F:  0.15\n",
      "('ru', 'reranking-Unbabel--wmt22-cometkiwi-da')\n",
      "comet_f:  89.07994317737493\n",
      "comet_m:  90.44604821096767\n",
      "Accuracy_M:  0.51 Accuracy_F:  0.14\n",
      "('ru', 'reranking-Unbabel--wmt23-cometkiwi-da-xxl')\n",
      "comet_f:  88.93625586141239\n",
      "comet_m:  90.15476564656605\n",
      "Accuracy_M:  0.48 Accuracy_F:  0.17\n"
     ]
    }
   ],
   "source": [
    "# group by language and type\n",
    "\n",
    "for group, df in all_data_df.groupby([\"language\", \"type\"]):\n",
    "    print(group)\n",
    "    print(\"comet_f: \", np.mean(df[\"comet_f\"]*100))\n",
    "    print(\"comet_m: \", np.mean(df[\"comet_m\"]*100))\n",
    "    df_correct = df[df[\"gender_decision\"] == \"Correct\"]\n",
    "    df_incorrect = df[df[\"gender_decision\"] == \"Incorrect\"]\n",
    "    print(\"Accuracy_M: \", round(df_correct.shape[0]/df.shape[0], 2), \"Accuracy_F: \", round(df_incorrect.shape[0]/df.shape[0], 2))\n"
   ]
  },
  {
   "cell_type": "code",
   "execution_count": null,
   "metadata": {},
   "outputs": [],
   "source": []
  },
  {
   "cell_type": "code",
   "execution_count": null,
   "metadata": {},
   "outputs": [],
   "source": []
  },
  {
   "cell_type": "code",
   "execution_count": null,
   "metadata": {},
   "outputs": [],
   "source": [
    "for gr, gr_df in scores_df.groupby([\"lang\"]):\n",
    "    display(gr_df)"
   ]
  }
 ],
 "metadata": {
  "kernelspec": {
   "display_name": "Python 3 (ipykernel)",
   "language": "python",
   "name": "python3"
  },
  "language_info": {
   "codemirror_mode": {
    "name": "ipython",
    "version": 3
   },
   "file_extension": ".py",
   "mimetype": "text/x-python",
   "name": "python",
   "nbconvert_exporter": "python",
   "pygments_lexer": "ipython3",
   "version": "3.10.12"
  }
 },
 "nbformat": 4,
 "nbformat_minor": 2
}
